{
 "cells": [
  {
   "cell_type": "markdown",
   "metadata": {},
   "source": [
    "What is the total loss from the normal (non-mass) examples in this example dataset?\n",
    "\n",
    "Please use the natural logarithm in your calculation. When you use numpy.log, this is using the natural logarithm. Also, to get the total loss, please add up the losses from each ‘normal’ example.\n",
    "\n",
    "Example\tP(positive)\n",
    "P1 Normal\t0.6\n",
    "P3 Normal\t0.3\n",
    "P5 Mass\t0.4"
   ]
  },
  {
   "cell_type": "code",
   "execution_count": 18,
   "metadata": {},
   "outputs": [
    {
     "name": "stdout",
     "output_type": "stream",
     "text": [
      "y_true: \n",
      "[[0]\n",
      " [0]]\n"
     ]
    }
   ],
   "source": [
    "import numpy as np\n",
    "\n",
    "y_true = np.array(\n",
    "        [[0],\n",
    "         [0]])\n",
    "print(f\"y_true: \\n{y_true}\")"
   ]
  },
  {
   "cell_type": "code",
   "execution_count": 19,
   "metadata": {},
   "outputs": [
    {
     "name": "stdout",
     "output_type": "stream",
     "text": [
      "y_pred: \n",
      "[[0.6]\n",
      " [0.3]]\n"
     ]
    }
   ],
   "source": [
    "y_pred = np.array(\n",
    "        [[0.6],\n",
    "         [0.3]])\n",
    "print(f\"y_pred: \\n{y_pred}\")"
   ]
  },
  {
   "cell_type": "code",
   "execution_count": 20,
   "metadata": {},
   "outputs": [
    {
     "name": "stdout",
     "output_type": "stream",
     "text": [
      "loss_reg_1: 1.2730\n"
     ]
    }
   ],
   "source": [
    "loss_reg_1 = -1 * np.sum(y_true * np.log(y_pred)) + \\\n",
    "                -1 * np.sum((1 - y_true) * np.log(1 - y_pred))\n",
    "print(f\"loss_reg_1: {loss_reg_1:.4f}\")"
   ]
  },
  {
   "cell_type": "markdown",
   "metadata": {},
   "source": [
    "# Answer"
   ]
  },
  {
   "cell_type": "markdown",
   "metadata": {},
   "source": [
    "Since these are negative examples, the losses will be  -log(1-P(positive))−log(1−P(positive)).\n",
    "\n",
    "For P1, -log(1-0.6) = 0.91−log(1−0.6)=0.91.\n",
    "\n",
    "For P3 -log(1-0.3) = 0.36−log(1−0.3)=0.36.\n",
    "\n",
    "The sum is 0.91 + 0.36 = 1.270.91+0.36=1.27."
   ]
  },
  {
   "cell_type": "code",
   "execution_count": null,
   "metadata": {},
   "outputs": [],
   "source": []
  }
 ],
 "metadata": {
  "kernelspec": {
   "display_name": "Python 3",
   "language": "python",
   "name": "python3"
  },
  "language_info": {
   "codemirror_mode": {
    "name": "ipython",
    "version": 3
   },
   "file_extension": ".py",
   "mimetype": "text/x-python",
   "name": "python",
   "nbconvert_exporter": "python",
   "pygments_lexer": "ipython3",
   "version": "3.6.3"
  }
 },
 "nbformat": 4,
 "nbformat_minor": 2
}
